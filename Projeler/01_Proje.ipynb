{
 "cells": [
  {
   "cell_type": "code",
   "execution_count": 1,
   "id": "55a3b2cf-094d-4541-a62f-34c66fd05ef7",
   "metadata": {},
   "outputs": [],
   "source": [
    "import pandas as pd"
   ]
  },
  {
   "cell_type": "code",
   "execution_count": 61,
   "id": "96f66191-9964-4935-8eb3-0b09cfda486d",
   "metadata": {},
   "outputs": [
    {
     "data": {
      "text/html": [
       "<div>\n",
       "<style scoped>\n",
       "    .dataframe tbody tr th:only-of-type {\n",
       "        vertical-align: middle;\n",
       "    }\n",
       "\n",
       "    .dataframe tbody tr th {\n",
       "        vertical-align: top;\n",
       "    }\n",
       "\n",
       "    .dataframe thead th {\n",
       "        text-align: right;\n",
       "    }\n",
       "</style>\n",
       "<table border=\"1\" class=\"dataframe\">\n",
       "  <thead>\n",
       "    <tr style=\"text-align: right;\">\n",
       "      <th></th>\n",
       "      <th>user_id</th>\n",
       "      <th>name</th>\n",
       "      <th>age</th>\n",
       "      <th>email</th>\n",
       "      <th>last_login</th>\n",
       "      <th>fav_color</th>\n",
       "      <th>purchase_history</th>\n",
       "      <th>is_active</th>\n",
       "      <th>city</th>\n",
       "      <th>extra_column</th>\n",
       "    </tr>\n",
       "  </thead>\n",
       "  <tbody>\n",
       "    <tr>\n",
       "      <th>0</th>\n",
       "      <td>2</td>\n",
       "      <td>Ayşe Yılmaz</td>\n",
       "      <td>NaN</td>\n",
       "      <td>ayse@example.com</td>\n",
       "      <td>2025-01-02 12:33</td>\n",
       "      <td>red</td>\n",
       "      <td>\"\"[]\"\"</td>\n",
       "      <td>False</td>\n",
       "      <td>Ankara</td>\n",
       "      <td>qwer</td>\n",
       "    </tr>\n",
       "    <tr>\n",
       "      <th>1</th>\n",
       "      <td>3</td>\n",
       "      <td>Can D.</td>\n",
       "      <td>34.0</td>\n",
       "      <td>can@example.com</td>\n",
       "      <td>2024-11-11 08:00</td>\n",
       "      <td>yellow</td>\n",
       "      <td>\"\"['shoes']\"\"</td>\n",
       "      <td>True</td>\n",
       "      <td>İzmir</td>\n",
       "      <td>zxcv</td>\n",
       "    </tr>\n",
       "    <tr>\n",
       "      <th>2</th>\n",
       "      <td>5</td>\n",
       "      <td>Ahmet K.</td>\n",
       "      <td>23.0</td>\n",
       "      <td>ahmet@example.com</td>\n",
       "      <td>NaN</td>\n",
       "      <td>purple</td>\n",
       "      <td>NaN</td>\n",
       "      <td>True</td>\n",
       "      <td>Bursa</td>\n",
       "      <td>asd2</td>\n",
       "    </tr>\n",
       "  </tbody>\n",
       "</table>\n",
       "</div>"
      ],
      "text/plain": [
       "   user_id         name   age              email        last_login fav_color  \\\n",
       "0        2  Ayşe Yılmaz   NaN   ayse@example.com  2025-01-02 12:33       red   \n",
       "1        3       Can D.  34.0    can@example.com  2024-11-11 08:00    yellow   \n",
       "2        5     Ahmet K.  23.0  ahmet@example.com               NaN    purple   \n",
       "\n",
       "  purchase_history  is_active    city extra_column  \n",
       "0           \"\"[]\"\"      False  Ankara         qwer  \n",
       "1    \"\"['shoes']\"\"       True   İzmir         zxcv  \n",
       "2              NaN       True   Bursa         asd2  "
      ]
     },
     "execution_count": 61,
     "metadata": {},
     "output_type": "execute_result"
    }
   ],
   "source": [
    "df = pd.read_csv(\"C:/Users/Dell/Desktop/Yazılım/Jupyter Notebook/Veriler/kullanicilar.csv\")\n",
    "df"
   ]
  },
  {
   "cell_type": "code",
   "execution_count": 63,
   "id": "c2aeb5d2-ac3b-427a-b775-c45cb85e69de",
   "metadata": {},
   "outputs": [
    {
     "data": {
      "text/plain": [
       "user_id             0\n",
       "name                0\n",
       "age                 1\n",
       "email               0\n",
       "last_login          1\n",
       "fav_color           0\n",
       "purchase_history    1\n",
       "is_active           0\n",
       "city                0\n",
       "extra_column        0\n",
       "dtype: int64"
      ]
     },
     "execution_count": 63,
     "metadata": {},
     "output_type": "execute_result"
    }
   ],
   "source": [
    "df.isnull().sum()"
   ]
  },
  {
   "cell_type": "code",
   "execution_count": 65,
   "id": "12288ea6-d2fe-4bff-b9ed-13a19740b6da",
   "metadata": {},
   "outputs": [
    {
     "data": {
      "text/html": [
       "<div>\n",
       "<style scoped>\n",
       "    .dataframe tbody tr th:only-of-type {\n",
       "        vertical-align: middle;\n",
       "    }\n",
       "\n",
       "    .dataframe tbody tr th {\n",
       "        vertical-align: top;\n",
       "    }\n",
       "\n",
       "    .dataframe thead th {\n",
       "        text-align: right;\n",
       "    }\n",
       "</style>\n",
       "<table border=\"1\" class=\"dataframe\">\n",
       "  <thead>\n",
       "    <tr style=\"text-align: right;\">\n",
       "      <th></th>\n",
       "      <th>user_id</th>\n",
       "      <th>name</th>\n",
       "      <th>age</th>\n",
       "      <th>email</th>\n",
       "      <th>last_login</th>\n",
       "      <th>fav_color</th>\n",
       "      <th>purchase_history</th>\n",
       "      <th>is_active</th>\n",
       "      <th>city</th>\n",
       "      <th>extra_column</th>\n",
       "    </tr>\n",
       "  </thead>\n",
       "  <tbody>\n",
       "    <tr>\n",
       "      <th>1</th>\n",
       "      <td>3</td>\n",
       "      <td>Can D.</td>\n",
       "      <td>34.0</td>\n",
       "      <td>can@example.com</td>\n",
       "      <td>2024-11-11 08:00</td>\n",
       "      <td>yellow</td>\n",
       "      <td>\"\"['shoes']\"\"</td>\n",
       "      <td>True</td>\n",
       "      <td>İzmir</td>\n",
       "      <td>zxcv</td>\n",
       "    </tr>\n",
       "  </tbody>\n",
       "</table>\n",
       "</div>"
      ],
      "text/plain": [
       "   user_id    name   age            email        last_login fav_color  \\\n",
       "1        3  Can D.  34.0  can@example.com  2024-11-11 08:00    yellow   \n",
       "\n",
       "  purchase_history  is_active   city extra_column  \n",
       "1    \"\"['shoes']\"\"       True  İzmir         zxcv  "
      ]
     },
     "execution_count": 65,
     "metadata": {},
     "output_type": "execute_result"
    }
   ],
   "source": [
    "df.dropna() # verileri "
   ]
  },
  {
   "cell_type": "code",
   "execution_count": null,
   "id": "c73e763b-23a2-4ae8-9039-87284e2a04dc",
   "metadata": {},
   "outputs": [],
   "source": []
  }
 ],
 "metadata": {
  "kernelspec": {
   "display_name": "Python [conda env:base] *",
   "language": "python",
   "name": "conda-base-py"
  },
  "language_info": {
   "codemirror_mode": {
    "name": "ipython",
    "version": 3
   },
   "file_extension": ".py",
   "mimetype": "text/x-python",
   "name": "python",
   "nbconvert_exporter": "python",
   "pygments_lexer": "ipython3",
   "version": "3.12.7"
  }
 },
 "nbformat": 4,
 "nbformat_minor": 5
}
