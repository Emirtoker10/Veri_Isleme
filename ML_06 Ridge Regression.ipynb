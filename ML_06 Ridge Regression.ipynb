{
 "cells": [
  {
   "cell_type": "raw",
   "id": "b5d56897-0f66-4a60-8326-60190a62a20b",
   "metadata": {},
   "source": [
    "ridge regresyon overfitting (aşırı öğrenme durumları için kullanılır )\n",
    "\n",
    "ridge regresyon sayesinde bias ve varyans arasındaki dengeyi sağlayabiliriz\n",
    "\n",
    "ridge regresyonda katsayılar üzerinde regülasyon yapılır\n",
    "\n",
    "ridge regresyonda katsayılar küçülür ama sıfır olmaz . fetures öz nitelik azalmaz\n",
    "\n",
    "ridge regresyon cezalar karesi ile orantılıdır \n",
    "\n",
    "ridge regresyon l2 olara da adlandırılır"
   ]
  },
  {
   "cell_type": "code",
   "execution_count": 31,
   "id": "aa152d94-ee04-47c0-a62b-19dd433de4ac",
   "metadata": {},
   "outputs": [],
   "source": [
    "import pandas as pd\n",
    "import numpy as np\n",
    "import matplotlib.pyplot as plt\n",
    "from sklearn.linear_model import LinearRegression , Ridge"
   ]
  },
  {
   "cell_type": "code",
   "execution_count": 33,
   "id": "560b4fcc-be0c-4914-8109-ef72bd4ac8e3",
   "metadata": {},
   "outputs": [
    {
     "data": {
      "text/html": [
       "<div>\n",
       "<style scoped>\n",
       "    .dataframe tbody tr th:only-of-type {\n",
       "        vertical-align: middle;\n",
       "    }\n",
       "\n",
       "    .dataframe tbody tr th {\n",
       "        vertical-align: top;\n",
       "    }\n",
       "\n",
       "    .dataframe thead th {\n",
       "        text-align: right;\n",
       "    }\n",
       "</style>\n",
       "<table border=\"1\" class=\"dataframe\">\n",
       "  <thead>\n",
       "    <tr style=\"text-align: right;\">\n",
       "      <th></th>\n",
       "      <th>number_courses</th>\n",
       "      <th>time_study</th>\n",
       "      <th>Marks</th>\n",
       "    </tr>\n",
       "  </thead>\n",
       "  <tbody>\n",
       "    <tr>\n",
       "      <th>0</th>\n",
       "      <td>3</td>\n",
       "      <td>4.508</td>\n",
       "      <td>19.202</td>\n",
       "    </tr>\n",
       "    <tr>\n",
       "      <th>1</th>\n",
       "      <td>4</td>\n",
       "      <td>0.096</td>\n",
       "      <td>7.734</td>\n",
       "    </tr>\n",
       "    <tr>\n",
       "      <th>2</th>\n",
       "      <td>4</td>\n",
       "      <td>3.133</td>\n",
       "      <td>13.811</td>\n",
       "    </tr>\n",
       "    <tr>\n",
       "      <th>3</th>\n",
       "      <td>6</td>\n",
       "      <td>7.909</td>\n",
       "      <td>53.018</td>\n",
       "    </tr>\n",
       "    <tr>\n",
       "      <th>4</th>\n",
       "      <td>8</td>\n",
       "      <td>7.811</td>\n",
       "      <td>55.299</td>\n",
       "    </tr>\n",
       "  </tbody>\n",
       "</table>\n",
       "</div>"
      ],
      "text/plain": [
       "   number_courses  time_study   Marks\n",
       "0               3       4.508  19.202\n",
       "1               4       0.096   7.734\n",
       "2               4       3.133  13.811\n",
       "3               6       7.909  53.018\n",
       "4               8       7.811  55.299"
      ]
     },
     "execution_count": 33,
     "metadata": {},
     "output_type": "execute_result"
    }
   ],
   "source": [
    "df = pd.read_csv(\"C:/Users/Dell/Desktop/Yazılım/Jupyter Notebook/Veriler/Student_Marks.csv\")\n",
    "df.head()"
   ]
  },
  {
   "cell_type": "code",
   "execution_count": 35,
   "id": "473589ae-5327-4241-a152-bf62b8bd1a78",
   "metadata": {},
   "outputs": [
    {
     "data": {
      "text/html": [
       "<div>\n",
       "<style scoped>\n",
       "    .dataframe tbody tr th:only-of-type {\n",
       "        vertical-align: middle;\n",
       "    }\n",
       "\n",
       "    .dataframe tbody tr th {\n",
       "        vertical-align: top;\n",
       "    }\n",
       "\n",
       "    .dataframe thead th {\n",
       "        text-align: right;\n",
       "    }\n",
       "</style>\n",
       "<table border=\"1\" class=\"dataframe\">\n",
       "  <thead>\n",
       "    <tr style=\"text-align: right;\">\n",
       "      <th></th>\n",
       "      <th>time_study</th>\n",
       "      <th>Marks</th>\n",
       "    </tr>\n",
       "  </thead>\n",
       "  <tbody>\n",
       "    <tr>\n",
       "      <th>0</th>\n",
       "      <td>4.508</td>\n",
       "      <td>19.202</td>\n",
       "    </tr>\n",
       "    <tr>\n",
       "      <th>1</th>\n",
       "      <td>0.096</td>\n",
       "      <td>7.734</td>\n",
       "    </tr>\n",
       "    <tr>\n",
       "      <th>2</th>\n",
       "      <td>3.133</td>\n",
       "      <td>13.811</td>\n",
       "    </tr>\n",
       "    <tr>\n",
       "      <th>3</th>\n",
       "      <td>7.909</td>\n",
       "      <td>53.018</td>\n",
       "    </tr>\n",
       "    <tr>\n",
       "      <th>4</th>\n",
       "      <td>7.811</td>\n",
       "      <td>55.299</td>\n",
       "    </tr>\n",
       "  </tbody>\n",
       "</table>\n",
       "</div>"
      ],
      "text/plain": [
       "   time_study   Marks\n",
       "0       4.508  19.202\n",
       "1       0.096   7.734\n",
       "2       3.133  13.811\n",
       "3       7.909  53.018\n",
       "4       7.811  55.299"
      ]
     },
     "execution_count": 35,
     "metadata": {},
     "output_type": "execute_result"
    }
   ],
   "source": [
    "df = df.drop(\"number_courses\",axis=1)\n",
    "df.head()"
   ]
  },
  {
   "cell_type": "code",
   "execution_count": 37,
   "id": "5af13da9-cdeb-4440-be47-7d03b2f5850a",
   "metadata": {},
   "outputs": [],
   "source": [
    "x = df[[\"time_study\"]]\n",
    "y = df[\"Marks\"]"
   ]
  },
  {
   "cell_type": "code",
   "execution_count": 39,
   "id": "b6a0f136-3d48-4653-998e-7cbe7432f48f",
   "metadata": {},
   "outputs": [
    {
     "data": {
      "image/png": "[encoded data removed]",
      "text/plain": [
       "<Figure size 500x500 with 1 Axes>"
      ]
     },
     "metadata": {},
     "output_type": "display_data"
    }
   ],
   "source": [
    "plt.style.use(\"fivethirtyeight\")\n",
    "plt.figure(figsize = (5,5))\n",
    "plt.scatter(x,y)\n",
    "plt.show()"
   ]
  },
  {
   "cell_type": "code",
   "execution_count": 41,
   "id": "39f46ea5-e402-4a22-98cc-17f453c162e3",
   "metadata": {},
   "outputs": [
    {
     "data": {
      "text/plain": [
       "0.887842393906195"
      ]
     },
     "execution_count": 41,
     "metadata": {},
     "output_type": "execute_result"
    }
   ],
   "source": [
    "lm = LinearRegression()\n",
    "model = lm.fit(x,y)\n",
    "model.score(x,y)"
   ]
  },
  {
   "cell_type": "code",
   "execution_count": 51,
   "id": "88d5c755-c204-49b9-9664-02ec2d377bca",
   "metadata": {},
   "outputs": [
    {
     "name": "stdout",
     "output_type": "stream",
     "text": [
      "0.8878395469511184\n",
      "katsayı: [5.67856359]\n",
      "0.8875666577020126\n",
      "katsayı: [5.58849778]\n",
      "0.886777319407795\n",
      "katsayı: [5.49171744]\n",
      "0.8673013865239424\n",
      "katsayı: [4.82346415]\n",
      "0.8259413810656739\n",
      "katsayı: [4.18665397]\n"
     ]
    }
   ],
   "source": [
    "alfalar = [1,10,20,100,200]\n",
    "\n",
    "for i in alfalar:\n",
    "    r = Ridge(alpha=i)\n",
    "    modelr = r.fit(x,y)\n",
    "    print(modelr.score(x,y))\n",
    "    print(\"katsayı:\",modelr.coef_)"
   ]
  },
  {
   "cell_type": "raw",
   "id": "5e3c72ca-1724-4cb9-ac86-c8a343a3b081",
   "metadata": {},
   "source": [
    "eğer overfitting varsa train skoru çok yüksek test skoru düşük olur . alfa değeri ile ilgili araştırılması geren daha çok şey var (Cross-Validation ...)\n",
    "sonra tekrardan bak"
   ]
  },
  {
   "cell_type": "code",
   "execution_count": null,
   "id": "bb5901d5-4d90-43a1-a276-3fc4728126be",
   "metadata": {},
   "outputs": [],
   "source": []
  }
 ],
 "metadata": {
  "kernelspec": {
   "display_name": "Python [conda env:base] *",
   "language": "python",
   "name": "conda-base-py"
  },
  "language_info": {
   "codemirror_mode": {
    "name": "ipython",
    "version": 3
   },
   "file_extension": ".py",
   "mimetype": "text/x-python",
   "name": "python",
   "nbconvert_exporter": "python",
   "pygments_lexer": "ipython3",
   "version": "3.12.7"
  }
 },
 "nbformat": 4,
 "nbformat_minor": 5
}
