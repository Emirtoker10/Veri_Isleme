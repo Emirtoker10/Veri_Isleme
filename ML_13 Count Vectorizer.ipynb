{
 "cells": [
  {
   "cell_type": "code",
   "execution_count": 1,
   "id": "c461eee6-5ed9-41aa-ab24-3acaffc70ee1",
   "metadata": {},
   "outputs": [],
   "source": [
    "import pandas as pd\n",
    "import numpy as np\n",
    "from sklearn.feature_extraction.text import CountVectorizer"
   ]
  },
  {
   "cell_type": "code",
   "execution_count": 31,
   "id": "fc79e4f3-10e6-406e-90fa-fa4695a0551d",
   "metadata": {},
   "outputs": [],
   "source": [
    "df=pd.DataFrame()"
   ]
  },
  {
   "cell_type": "code",
   "execution_count": 33,
   "id": "1b34c97f-f5bd-4406-999a-3b8db0374cc6",
   "metadata": {},
   "outputs": [],
   "source": [
    "df[\"cumleler\"]=[\"ali bak\",\"ali ata bak\",\"bak ali bak\",\"ali güzel ata bak\",\"ışık ılık süt iç\",\"iç ışık iç\"]"
   ]
  },
  {
   "cell_type": "code",
   "execution_count": 35,
   "id": "724b2a8e-c1fc-4d0a-b162-72906b31c10f",
   "metadata": {},
   "outputs": [],
   "source": [
    "cv=CountVectorizer(max_features=4)"
   ]
  },
  {
   "cell_type": "code",
   "execution_count": 37,
   "id": "ca358388-b152-4b26-bfbc-db6a67d30c05",
   "metadata": {},
   "outputs": [],
   "source": [
    "a=cv.fit_transform(df[\"cumleler\"])"
   ]
  },
  {
   "cell_type": "code",
   "execution_count": 39,
   "id": "03c103bb-39ec-480b-b7bd-fab6557c2beb",
   "metadata": {},
   "outputs": [
    {
     "data": {
      "text/plain": [
       "array([[1, 0, 1, 0],\n",
       "       [1, 1, 1, 0],\n",
       "       [1, 0, 2, 0],\n",
       "       [1, 1, 1, 0],\n",
       "       [0, 0, 0, 1],\n",
       "       [0, 0, 0, 2]], dtype=int64)"
      ]
     },
     "execution_count": 39,
     "metadata": {},
     "output_type": "execute_result"
    }
   ],
   "source": [
    "a.toarray()"
   ]
  },
  {
   "cell_type": "code",
   "execution_count": 45,
   "id": "e337e5f4-10b8-444d-8438-5d3759130068",
   "metadata": {},
   "outputs": [
    {
     "data": {
      "text/plain": [
       "array(['ali', 'ata', 'bak', 'iç'], dtype=object)"
      ]
     },
     "execution_count": 45,
     "metadata": {},
     "output_type": "execute_result"
    }
   ],
   "source": [
    "cv.get_feature_names_out()"
   ]
  },
  {
   "cell_type": "code",
   "execution_count": null,
   "id": "3612e4de-4ab0-4b22-ab41-a1c734a5f05d",
   "metadata": {},
   "outputs": [],
   "source": [
    "#stop words \n",
    "# mesela,ne,fakat,gibi"
   ]
  }
 ],
 "metadata": {
  "kernelspec": {
   "display_name": "Python [conda env:base] *",
   "language": "python",
   "name": "conda-base-py"
  },
  "language_info": {
   "codemirror_mode": {
    "name": "ipython",
    "version": 3
   },
   "file_extension": ".py",
   "mimetype": "text/x-python",
   "name": "python",
   "nbconvert_exporter": "python",
   "pygments_lexer": "ipython3",
   "version": "3.12.7"
  }
 },
 "nbformat": 4,
 "nbformat_minor": 5
}
