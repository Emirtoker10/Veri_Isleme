{
 "cells": [
  {
   "cell_type": "markdown",
   "id": "be6161d4-f3a9-4bee-97f9-9b84a6f92c96",
   "metadata": {},
   "source": [
    "rename\n",
    "map\n",
    "unique"
   ]
  },
  {
   "cell_type": "code",
   "execution_count": 4,
   "id": "19293b73-a2b1-4b0f-bec9-20f7ebb20a56",
   "metadata": {},
   "outputs": [],
   "source": [
    "import seaborn as sns"
   ]
  },
  {
   "cell_type": "code",
   "execution_count": 5,
   "id": "14116cc9-d763-4b4c-801f-164355d99438",
   "metadata": {},
   "outputs": [],
   "source": [
    "tips = sns.load_dataset(\"tips\")\n",
    "df = tips.copy()"
   ]
  },
  {
   "cell_type": "code",
   "execution_count": 6,
   "id": "f74d0c63-b655-4327-8d94-2b77cd9493c1",
   "metadata": {},
   "outputs": [
    {
     "data": {
      "text/html": [
       "<div>\n",
       "<style scoped>\n",
       "    .dataframe tbody tr th:only-of-type {\n",
       "        vertical-align: middle;\n",
       "    }\n",
       "\n",
       "    .dataframe tbody tr th {\n",
       "        vertical-align: top;\n",
       "    }\n",
       "\n",
       "    .dataframe thead th {\n",
       "        text-align: right;\n",
       "    }\n",
       "</style>\n",
       "<table border=\"1\" class=\"dataframe\">\n",
       "  <thead>\n",
       "    <tr style=\"text-align: right;\">\n",
       "      <th></th>\n",
       "      <th>total_bill</th>\n",
       "      <th>tip</th>\n",
       "      <th>sex</th>\n",
       "      <th>smoker</th>\n",
       "      <th>day</th>\n",
       "      <th>time</th>\n",
       "      <th>size</th>\n",
       "    </tr>\n",
       "  </thead>\n",
       "  <tbody>\n",
       "    <tr>\n",
       "      <th>0</th>\n",
       "      <td>16.99</td>\n",
       "      <td>1.01</td>\n",
       "      <td>Female</td>\n",
       "      <td>No</td>\n",
       "      <td>Sun</td>\n",
       "      <td>Dinner</td>\n",
       "      <td>2</td>\n",
       "    </tr>\n",
       "    <tr>\n",
       "      <th>1</th>\n",
       "      <td>10.34</td>\n",
       "      <td>1.66</td>\n",
       "      <td>Male</td>\n",
       "      <td>No</td>\n",
       "      <td>Sun</td>\n",
       "      <td>Dinner</td>\n",
       "      <td>3</td>\n",
       "    </tr>\n",
       "    <tr>\n",
       "      <th>2</th>\n",
       "      <td>21.01</td>\n",
       "      <td>3.50</td>\n",
       "      <td>Male</td>\n",
       "      <td>No</td>\n",
       "      <td>Sun</td>\n",
       "      <td>Dinner</td>\n",
       "      <td>3</td>\n",
       "    </tr>\n",
       "    <tr>\n",
       "      <th>3</th>\n",
       "      <td>23.68</td>\n",
       "      <td>3.31</td>\n",
       "      <td>Male</td>\n",
       "      <td>No</td>\n",
       "      <td>Sun</td>\n",
       "      <td>Dinner</td>\n",
       "      <td>2</td>\n",
       "    </tr>\n",
       "    <tr>\n",
       "      <th>4</th>\n",
       "      <td>24.59</td>\n",
       "      <td>3.61</td>\n",
       "      <td>Female</td>\n",
       "      <td>No</td>\n",
       "      <td>Sun</td>\n",
       "      <td>Dinner</td>\n",
       "      <td>4</td>\n",
       "    </tr>\n",
       "  </tbody>\n",
       "</table>\n",
       "</div>"
      ],
      "text/plain": [
       "   total_bill   tip     sex smoker  day    time  size\n",
       "0       16.99  1.01  Female     No  Sun  Dinner     2\n",
       "1       10.34  1.66    Male     No  Sun  Dinner     3\n",
       "2       21.01  3.50    Male     No  Sun  Dinner     3\n",
       "3       23.68  3.31    Male     No  Sun  Dinner     2\n",
       "4       24.59  3.61  Female     No  Sun  Dinner     4"
      ]
     },
     "execution_count": 6,
     "metadata": {},
     "output_type": "execute_result"
    }
   ],
   "source": [
    "df.head() #ilk 5 satır gösterir"
   ]
  },
  {
   "cell_type": "code",
   "execution_count": 7,
   "id": "9053d637-6c51-4163-b2a9-be61bc95ee29",
   "metadata": {},
   "outputs": [
    {
     "data": {
      "text/html": [
       "<div>\n",
       "<style scoped>\n",
       "    .dataframe tbody tr th:only-of-type {\n",
       "        vertical-align: middle;\n",
       "    }\n",
       "\n",
       "    .dataframe tbody tr th {\n",
       "        vertical-align: top;\n",
       "    }\n",
       "\n",
       "    .dataframe thead th {\n",
       "        text-align: right;\n",
       "    }\n",
       "</style>\n",
       "<table border=\"1\" class=\"dataframe\">\n",
       "  <thead>\n",
       "    <tr style=\"text-align: right;\">\n",
       "      <th></th>\n",
       "      <th>total_bill</th>\n",
       "      <th>tip</th>\n",
       "      <th>sex</th>\n",
       "      <th>smoker</th>\n",
       "      <th>day</th>\n",
       "      <th>time</th>\n",
       "      <th>size</th>\n",
       "    </tr>\n",
       "  </thead>\n",
       "  <tbody>\n",
       "    <tr>\n",
       "      <th>239</th>\n",
       "      <td>29.03</td>\n",
       "      <td>5.92</td>\n",
       "      <td>Male</td>\n",
       "      <td>No</td>\n",
       "      <td>Sat</td>\n",
       "      <td>Dinner</td>\n",
       "      <td>3</td>\n",
       "    </tr>\n",
       "    <tr>\n",
       "      <th>240</th>\n",
       "      <td>27.18</td>\n",
       "      <td>2.00</td>\n",
       "      <td>Female</td>\n",
       "      <td>Yes</td>\n",
       "      <td>Sat</td>\n",
       "      <td>Dinner</td>\n",
       "      <td>2</td>\n",
       "    </tr>\n",
       "    <tr>\n",
       "      <th>241</th>\n",
       "      <td>22.67</td>\n",
       "      <td>2.00</td>\n",
       "      <td>Male</td>\n",
       "      <td>Yes</td>\n",
       "      <td>Sat</td>\n",
       "      <td>Dinner</td>\n",
       "      <td>2</td>\n",
       "    </tr>\n",
       "    <tr>\n",
       "      <th>242</th>\n",
       "      <td>17.82</td>\n",
       "      <td>1.75</td>\n",
       "      <td>Male</td>\n",
       "      <td>No</td>\n",
       "      <td>Sat</td>\n",
       "      <td>Dinner</td>\n",
       "      <td>2</td>\n",
       "    </tr>\n",
       "    <tr>\n",
       "      <th>243</th>\n",
       "      <td>18.78</td>\n",
       "      <td>3.00</td>\n",
       "      <td>Female</td>\n",
       "      <td>No</td>\n",
       "      <td>Thur</td>\n",
       "      <td>Dinner</td>\n",
       "      <td>2</td>\n",
       "    </tr>\n",
       "  </tbody>\n",
       "</table>\n",
       "</div>"
      ],
      "text/plain": [
       "     total_bill   tip     sex smoker   day    time  size\n",
       "239       29.03  5.92    Male     No   Sat  Dinner     3\n",
       "240       27.18  2.00  Female    Yes   Sat  Dinner     2\n",
       "241       22.67  2.00    Male    Yes   Sat  Dinner     2\n",
       "242       17.82  1.75    Male     No   Sat  Dinner     2\n",
       "243       18.78  3.00  Female     No  Thur  Dinner     2"
      ]
     },
     "execution_count": 7,
     "metadata": {},
     "output_type": "execute_result"
    }
   ],
   "source": [
    "df.tail() #son 5 satırı gösterir"
   ]
  },
  {
   "cell_type": "code",
   "execution_count": 8,
   "id": "4d0d75b2-4f6c-469f-be61-d60c859d1657",
   "metadata": {
    "scrolled": true
   },
   "outputs": [
    {
     "data": {
      "text/html": [
       "<div>\n",
       "<style scoped>\n",
       "    .dataframe tbody tr th:only-of-type {\n",
       "        vertical-align: middle;\n",
       "    }\n",
       "\n",
       "    .dataframe tbody tr th {\n",
       "        vertical-align: top;\n",
       "    }\n",
       "\n",
       "    .dataframe thead th {\n",
       "        text-align: right;\n",
       "    }\n",
       "</style>\n",
       "<table border=\"1\" class=\"dataframe\">\n",
       "  <thead>\n",
       "    <tr style=\"text-align: right;\">\n",
       "      <th></th>\n",
       "      <th>count</th>\n",
       "      <th>mean</th>\n",
       "      <th>std</th>\n",
       "      <th>min</th>\n",
       "      <th>25%</th>\n",
       "      <th>50%</th>\n",
       "      <th>75%</th>\n",
       "      <th>max</th>\n",
       "    </tr>\n",
       "  </thead>\n",
       "  <tbody>\n",
       "    <tr>\n",
       "      <th>total_bill</th>\n",
       "      <td>244.0</td>\n",
       "      <td>19.785943</td>\n",
       "      <td>8.902412</td>\n",
       "      <td>3.07</td>\n",
       "      <td>13.3475</td>\n",
       "      <td>17.795</td>\n",
       "      <td>24.1275</td>\n",
       "      <td>50.81</td>\n",
       "    </tr>\n",
       "    <tr>\n",
       "      <th>tip</th>\n",
       "      <td>244.0</td>\n",
       "      <td>2.998279</td>\n",
       "      <td>1.383638</td>\n",
       "      <td>1.00</td>\n",
       "      <td>2.0000</td>\n",
       "      <td>2.900</td>\n",
       "      <td>3.5625</td>\n",
       "      <td>10.00</td>\n",
       "    </tr>\n",
       "    <tr>\n",
       "      <th>size</th>\n",
       "      <td>244.0</td>\n",
       "      <td>2.569672</td>\n",
       "      <td>0.951100</td>\n",
       "      <td>1.00</td>\n",
       "      <td>2.0000</td>\n",
       "      <td>2.000</td>\n",
       "      <td>3.0000</td>\n",
       "      <td>6.00</td>\n",
       "    </tr>\n",
       "  </tbody>\n",
       "</table>\n",
       "</div>"
      ],
      "text/plain": [
       "            count       mean       std   min      25%     50%      75%    max\n",
       "total_bill  244.0  19.785943  8.902412  3.07  13.3475  17.795  24.1275  50.81\n",
       "tip         244.0   2.998279  1.383638  1.00   2.0000   2.900   3.5625  10.00\n",
       "size        244.0   2.569672  0.951100  1.00   2.0000   2.000   3.0000   6.00"
      ]
     },
     "execution_count": 8,
     "metadata": {},
     "output_type": "execute_result"
    }
   ],
   "source": [
    "df.describe().T #genel bilgileri gösterir , T ise yan çevirir"
   ]
  },
  {
   "cell_type": "code",
   "execution_count": 9,
   "id": "00553478-b9cd-40ea-9dbd-4cc61d2dcbb0",
   "metadata": {
    "scrolled": true
   },
   "outputs": [
    {
     "data": {
      "text/html": [
       "<div>\n",
       "<style scoped>\n",
       "    .dataframe tbody tr th:only-of-type {\n",
       "        vertical-align: middle;\n",
       "    }\n",
       "\n",
       "    .dataframe tbody tr th {\n",
       "        vertical-align: top;\n",
       "    }\n",
       "\n",
       "    .dataframe thead th {\n",
       "        text-align: right;\n",
       "    }\n",
       "</style>\n",
       "<table border=\"1\" class=\"dataframe\">\n",
       "  <thead>\n",
       "    <tr style=\"text-align: right;\">\n",
       "      <th></th>\n",
       "      <th>fiyat</th>\n",
       "      <th>bahsis</th>\n",
       "      <th>cinsiyet</th>\n",
       "      <th>sigara</th>\n",
       "      <th>gün</th>\n",
       "      <th>zaman</th>\n",
       "      <th>kişi sayısı</th>\n",
       "    </tr>\n",
       "  </thead>\n",
       "  <tbody>\n",
       "    <tr>\n",
       "      <th>0</th>\n",
       "      <td>16.99</td>\n",
       "      <td>1.01</td>\n",
       "      <td>Female</td>\n",
       "      <td>No</td>\n",
       "      <td>Sun</td>\n",
       "      <td>Dinner</td>\n",
       "      <td>2</td>\n",
       "    </tr>\n",
       "    <tr>\n",
       "      <th>1</th>\n",
       "      <td>10.34</td>\n",
       "      <td>1.66</td>\n",
       "      <td>Male</td>\n",
       "      <td>No</td>\n",
       "      <td>Sun</td>\n",
       "      <td>Dinner</td>\n",
       "      <td>3</td>\n",
       "    </tr>\n",
       "    <tr>\n",
       "      <th>2</th>\n",
       "      <td>21.01</td>\n",
       "      <td>3.50</td>\n",
       "      <td>Male</td>\n",
       "      <td>No</td>\n",
       "      <td>Sun</td>\n",
       "      <td>Dinner</td>\n",
       "      <td>3</td>\n",
       "    </tr>\n",
       "    <tr>\n",
       "      <th>3</th>\n",
       "      <td>23.68</td>\n",
       "      <td>3.31</td>\n",
       "      <td>Male</td>\n",
       "      <td>No</td>\n",
       "      <td>Sun</td>\n",
       "      <td>Dinner</td>\n",
       "      <td>2</td>\n",
       "    </tr>\n",
       "    <tr>\n",
       "      <th>4</th>\n",
       "      <td>24.59</td>\n",
       "      <td>3.61</td>\n",
       "      <td>Female</td>\n",
       "      <td>No</td>\n",
       "      <td>Sun</td>\n",
       "      <td>Dinner</td>\n",
       "      <td>4</td>\n",
       "    </tr>\n",
       "  </tbody>\n",
       "</table>\n",
       "</div>"
      ],
      "text/plain": [
       "   fiyat  bahsis cinsiyet sigara  gün   zaman  kişi sayısı\n",
       "0  16.99    1.01   Female     No  Sun  Dinner            2\n",
       "1  10.34    1.66     Male     No  Sun  Dinner            3\n",
       "2  21.01    3.50     Male     No  Sun  Dinner            3\n",
       "3  23.68    3.31     Male     No  Sun  Dinner            2\n",
       "4  24.59    3.61   Female     No  Sun  Dinner            4"
      ]
     },
     "execution_count": 9,
     "metadata": {},
     "output_type": "execute_result"
    }
   ],
   "source": [
    "df.rename(columns = {\"total_bill\":\"fiyat\",\n",
    "                     \"tip\":\"bahsis\",\n",
    "                     \"sex\":\"cinsiyet\",\n",
    "                     \"smoker\":\"sigara\",\n",
    "                     \"day\":\"gün\",\n",
    "                     \"time\":\"zaman\",\n",
    "                     \"size\":\"kişi sayısı\"},\n",
    "          inplace = True) #inpalce değişikliğin kaydedilmesine yarıyor\n",
    "df.head()\n"
   ]
  },
  {
   "cell_type": "markdown",
   "id": "ba11d816-9662-467b-9e4d-a8c3b766c605",
   "metadata": {},
   "source": [
    "# Sütun Değerlerinin Değiştirilmesi"
   ]
  },
  {
   "cell_type": "code",
   "execution_count": 11,
   "id": "faf8693a-090c-4042-86e3-8a54a9c0705e",
   "metadata": {},
   "outputs": [],
   "source": [
    "df[\"cinsiyet\"] = df.cinsiyet.map({\"Female\":\"Kadın\",\"Male\":\"Erkek\"})\n",
    "#değişiklikleri kaydetmek için o sütuna atama yapmamız gerek"
   ]
  },
  {
   "cell_type": "markdown",
   "id": "bc7f587b-c3b8-4581-ad4a-1b4d974ff60c",
   "metadata": {},
   "source": [
    "cinsiyet"
   ]
  },
  {
   "cell_type": "code",
   "execution_count": 13,
   "id": "9a4686dc-4abb-4823-9d9e-fefe233cd98b",
   "metadata": {},
   "outputs": [
    {
     "data": {
      "text/plain": [
       "['Kadın', 'Erkek']\n",
       "Categories (2, object): ['Erkek', 'Kadın']"
      ]
     },
     "execution_count": 13,
     "metadata": {},
     "output_type": "execute_result"
    }
   ],
   "source": [
    "df.cinsiyet.unique() # verilen sütunda kaç tane farklı tür olduğunu bulmak için kullanılır"
   ]
  },
  {
   "cell_type": "markdown",
   "id": "ee1a2922-1356-4852-bba5-19e9a212ea10",
   "metadata": {},
   "source": [
    "sigara"
   ]
  },
  {
   "cell_type": "code",
   "execution_count": 15,
   "id": "deab5e17-b568-4d87-92e9-ea54bd92c65c",
   "metadata": {},
   "outputs": [
    {
     "data": {
      "text/plain": [
       "['No', 'Yes']\n",
       "Categories (2, object): ['Yes', 'No']"
      ]
     },
     "execution_count": 15,
     "metadata": {},
     "output_type": "execute_result"
    }
   ],
   "source": [
    "df.sigara.unique()"
   ]
  },
  {
   "cell_type": "code",
   "execution_count": 24,
   "id": "eb6fb83e-649a-4d0b-af41-74f59c6ad49d",
   "metadata": {},
   "outputs": [],
   "source": [
    "df[\"sigara\"] = df.sigara.map({\"No\":\"Hayır\",\"Yes\":\"Evet\"})"
   ]
  },
  {
   "cell_type": "markdown",
   "id": "ec4a1a51-1d13-429f-bddd-c878a87b02fa",
   "metadata": {},
   "source": [
    "gün"
   ]
  },
  {
   "cell_type": "code",
   "execution_count": 28,
   "id": "f78257a0-fed7-4216-8774-f3fcbbad54c9",
   "metadata": {},
   "outputs": [
    {
     "data": {
      "text/plain": [
       "['Sun', 'Sat', 'Thur', 'Fri']\n",
       "Categories (4, object): ['Thur', 'Fri', 'Sat', 'Sun']"
      ]
     },
     "execution_count": 28,
     "metadata": {},
     "output_type": "execute_result"
    }
   ],
   "source": [
    "df.gün.unique()"
   ]
  },
  {
   "cell_type": "code",
   "execution_count": 30,
   "id": "9dd45400-6d6c-42c0-b08a-9950b617b6b8",
   "metadata": {},
   "outputs": [],
   "source": [
    "df[\"gün\"] = df.gün.map({\"Sun\":\"Pazar\",\"Sat\":\"Cumartesi\",\"Thur\":\"Perşembe\",\"Fri\":\"Cuma\"})"
   ]
  },
  {
   "cell_type": "code",
   "execution_count": 32,
   "id": "9a7f0270-821c-4f00-99f9-f4d44f7745cd",
   "metadata": {},
   "outputs": [
    {
     "data": {
      "text/html": [
       "<div>\n",
       "<style scoped>\n",
       "    .dataframe tbody tr th:only-of-type {\n",
       "        vertical-align: middle;\n",
       "    }\n",
       "\n",
       "    .dataframe tbody tr th {\n",
       "        vertical-align: top;\n",
       "    }\n",
       "\n",
       "    .dataframe thead th {\n",
       "        text-align: right;\n",
       "    }\n",
       "</style>\n",
       "<table border=\"1\" class=\"dataframe\">\n",
       "  <thead>\n",
       "    <tr style=\"text-align: right;\">\n",
       "      <th></th>\n",
       "      <th>fiyat</th>\n",
       "      <th>bahsis</th>\n",
       "      <th>cinsiyet</th>\n",
       "      <th>sigara</th>\n",
       "      <th>gün</th>\n",
       "      <th>zaman</th>\n",
       "      <th>kişi sayısı</th>\n",
       "    </tr>\n",
       "  </thead>\n",
       "  <tbody>\n",
       "    <tr>\n",
       "      <th>0</th>\n",
       "      <td>16.99</td>\n",
       "      <td>1.01</td>\n",
       "      <td>Kadın</td>\n",
       "      <td>Hayır</td>\n",
       "      <td>Pazar</td>\n",
       "      <td>Dinner</td>\n",
       "      <td>2</td>\n",
       "    </tr>\n",
       "    <tr>\n",
       "      <th>1</th>\n",
       "      <td>10.34</td>\n",
       "      <td>1.66</td>\n",
       "      <td>Erkek</td>\n",
       "      <td>Hayır</td>\n",
       "      <td>Pazar</td>\n",
       "      <td>Dinner</td>\n",
       "      <td>3</td>\n",
       "    </tr>\n",
       "    <tr>\n",
       "      <th>2</th>\n",
       "      <td>21.01</td>\n",
       "      <td>3.50</td>\n",
       "      <td>Erkek</td>\n",
       "      <td>Hayır</td>\n",
       "      <td>Pazar</td>\n",
       "      <td>Dinner</td>\n",
       "      <td>3</td>\n",
       "    </tr>\n",
       "    <tr>\n",
       "      <th>3</th>\n",
       "      <td>23.68</td>\n",
       "      <td>3.31</td>\n",
       "      <td>Erkek</td>\n",
       "      <td>Hayır</td>\n",
       "      <td>Pazar</td>\n",
       "      <td>Dinner</td>\n",
       "      <td>2</td>\n",
       "    </tr>\n",
       "    <tr>\n",
       "      <th>4</th>\n",
       "      <td>24.59</td>\n",
       "      <td>3.61</td>\n",
       "      <td>Kadın</td>\n",
       "      <td>Hayır</td>\n",
       "      <td>Pazar</td>\n",
       "      <td>Dinner</td>\n",
       "      <td>4</td>\n",
       "    </tr>\n",
       "    <tr>\n",
       "      <th>...</th>\n",
       "      <td>...</td>\n",
       "      <td>...</td>\n",
       "      <td>...</td>\n",
       "      <td>...</td>\n",
       "      <td>...</td>\n",
       "      <td>...</td>\n",
       "      <td>...</td>\n",
       "    </tr>\n",
       "    <tr>\n",
       "      <th>239</th>\n",
       "      <td>29.03</td>\n",
       "      <td>5.92</td>\n",
       "      <td>Erkek</td>\n",
       "      <td>Hayır</td>\n",
       "      <td>Cumartesi</td>\n",
       "      <td>Dinner</td>\n",
       "      <td>3</td>\n",
       "    </tr>\n",
       "    <tr>\n",
       "      <th>240</th>\n",
       "      <td>27.18</td>\n",
       "      <td>2.00</td>\n",
       "      <td>Kadın</td>\n",
       "      <td>Evet</td>\n",
       "      <td>Cumartesi</td>\n",
       "      <td>Dinner</td>\n",
       "      <td>2</td>\n",
       "    </tr>\n",
       "    <tr>\n",
       "      <th>241</th>\n",
       "      <td>22.67</td>\n",
       "      <td>2.00</td>\n",
       "      <td>Erkek</td>\n",
       "      <td>Evet</td>\n",
       "      <td>Cumartesi</td>\n",
       "      <td>Dinner</td>\n",
       "      <td>2</td>\n",
       "    </tr>\n",
       "    <tr>\n",
       "      <th>242</th>\n",
       "      <td>17.82</td>\n",
       "      <td>1.75</td>\n",
       "      <td>Erkek</td>\n",
       "      <td>Hayır</td>\n",
       "      <td>Cumartesi</td>\n",
       "      <td>Dinner</td>\n",
       "      <td>2</td>\n",
       "    </tr>\n",
       "    <tr>\n",
       "      <th>243</th>\n",
       "      <td>18.78</td>\n",
       "      <td>3.00</td>\n",
       "      <td>Kadın</td>\n",
       "      <td>Hayır</td>\n",
       "      <td>Perşembe</td>\n",
       "      <td>Dinner</td>\n",
       "      <td>2</td>\n",
       "    </tr>\n",
       "  </tbody>\n",
       "</table>\n",
       "<p>244 rows × 7 columns</p>\n",
       "</div>"
      ],
      "text/plain": [
       "     fiyat  bahsis cinsiyet sigara        gün   zaman  kişi sayısı\n",
       "0    16.99    1.01    Kadın  Hayır      Pazar  Dinner            2\n",
       "1    10.34    1.66    Erkek  Hayır      Pazar  Dinner            3\n",
       "2    21.01    3.50    Erkek  Hayır      Pazar  Dinner            3\n",
       "3    23.68    3.31    Erkek  Hayır      Pazar  Dinner            2\n",
       "4    24.59    3.61    Kadın  Hayır      Pazar  Dinner            4\n",
       "..     ...     ...      ...    ...        ...     ...          ...\n",
       "239  29.03    5.92    Erkek  Hayır  Cumartesi  Dinner            3\n",
       "240  27.18    2.00    Kadın   Evet  Cumartesi  Dinner            2\n",
       "241  22.67    2.00    Erkek   Evet  Cumartesi  Dinner            2\n",
       "242  17.82    1.75    Erkek  Hayır  Cumartesi  Dinner            2\n",
       "243  18.78    3.00    Kadın  Hayır   Perşembe  Dinner            2\n",
       "\n",
       "[244 rows x 7 columns]"
      ]
     },
     "execution_count": 32,
     "metadata": {},
     "output_type": "execute_result"
    }
   ],
   "source": [
    "df"
   ]
  },
  {
   "cell_type": "markdown",
   "id": "2a1e4847-dd05-4b6c-8871-0dac83f6897f",
   "metadata": {},
   "source": [
    "zaman"
   ]
  },
  {
   "cell_type": "code",
   "execution_count": 35,
   "id": "d4ad78db-ebb8-4b94-a8e9-3793a072eb56",
   "metadata": {},
   "outputs": [
    {
     "data": {
      "text/plain": [
       "['Dinner', 'Lunch']\n",
       "Categories (2, object): ['Lunch', 'Dinner']"
      ]
     },
     "execution_count": 35,
     "metadata": {},
     "output_type": "execute_result"
    }
   ],
   "source": [
    "df.zaman.unique()"
   ]
  },
  {
   "cell_type": "code",
   "execution_count": 37,
   "id": "e2f1f76b-6810-4725-bee2-a016e68855d9",
   "metadata": {},
   "outputs": [],
   "source": [
    "df[\"zaman\"] = df.zaman.map({\"Dinner\":\"Akşam Yemeği\",\"Lunch\":\"Öğle Yemepi\"})"
   ]
  },
  {
   "cell_type": "code",
   "execution_count": 39,
   "id": "351b0c25-fb2d-49e8-87b2-80c2bcb65647",
   "metadata": {},
   "outputs": [
    {
     "data": {
      "text/html": [
       "<div>\n",
       "<style scoped>\n",
       "    .dataframe tbody tr th:only-of-type {\n",
       "        vertical-align: middle;\n",
       "    }\n",
       "\n",
       "    .dataframe tbody tr th {\n",
       "        vertical-align: top;\n",
       "    }\n",
       "\n",
       "    .dataframe thead th {\n",
       "        text-align: right;\n",
       "    }\n",
       "</style>\n",
       "<table border=\"1\" class=\"dataframe\">\n",
       "  <thead>\n",
       "    <tr style=\"text-align: right;\">\n",
       "      <th></th>\n",
       "      <th>fiyat</th>\n",
       "      <th>bahsis</th>\n",
       "      <th>cinsiyet</th>\n",
       "      <th>sigara</th>\n",
       "      <th>gün</th>\n",
       "      <th>zaman</th>\n",
       "      <th>kişi sayısı</th>\n",
       "    </tr>\n",
       "  </thead>\n",
       "  <tbody>\n",
       "    <tr>\n",
       "      <th>0</th>\n",
       "      <td>16.99</td>\n",
       "      <td>1.01</td>\n",
       "      <td>Kadın</td>\n",
       "      <td>Hayır</td>\n",
       "      <td>Pazar</td>\n",
       "      <td>Akşam Yemeği</td>\n",
       "      <td>2</td>\n",
       "    </tr>\n",
       "    <tr>\n",
       "      <th>1</th>\n",
       "      <td>10.34</td>\n",
       "      <td>1.66</td>\n",
       "      <td>Erkek</td>\n",
       "      <td>Hayır</td>\n",
       "      <td>Pazar</td>\n",
       "      <td>Akşam Yemeği</td>\n",
       "      <td>3</td>\n",
       "    </tr>\n",
       "    <tr>\n",
       "      <th>2</th>\n",
       "      <td>21.01</td>\n",
       "      <td>3.50</td>\n",
       "      <td>Erkek</td>\n",
       "      <td>Hayır</td>\n",
       "      <td>Pazar</td>\n",
       "      <td>Akşam Yemeği</td>\n",
       "      <td>3</td>\n",
       "    </tr>\n",
       "    <tr>\n",
       "      <th>3</th>\n",
       "      <td>23.68</td>\n",
       "      <td>3.31</td>\n",
       "      <td>Erkek</td>\n",
       "      <td>Hayır</td>\n",
       "      <td>Pazar</td>\n",
       "      <td>Akşam Yemeği</td>\n",
       "      <td>2</td>\n",
       "    </tr>\n",
       "    <tr>\n",
       "      <th>4</th>\n",
       "      <td>24.59</td>\n",
       "      <td>3.61</td>\n",
       "      <td>Kadın</td>\n",
       "      <td>Hayır</td>\n",
       "      <td>Pazar</td>\n",
       "      <td>Akşam Yemeği</td>\n",
       "      <td>4</td>\n",
       "    </tr>\n",
       "    <tr>\n",
       "      <th>...</th>\n",
       "      <td>...</td>\n",
       "      <td>...</td>\n",
       "      <td>...</td>\n",
       "      <td>...</td>\n",
       "      <td>...</td>\n",
       "      <td>...</td>\n",
       "      <td>...</td>\n",
       "    </tr>\n",
       "    <tr>\n",
       "      <th>239</th>\n",
       "      <td>29.03</td>\n",
       "      <td>5.92</td>\n",
       "      <td>Erkek</td>\n",
       "      <td>Hayır</td>\n",
       "      <td>Cumartesi</td>\n",
       "      <td>Akşam Yemeği</td>\n",
       "      <td>3</td>\n",
       "    </tr>\n",
       "    <tr>\n",
       "      <th>240</th>\n",
       "      <td>27.18</td>\n",
       "      <td>2.00</td>\n",
       "      <td>Kadın</td>\n",
       "      <td>Evet</td>\n",
       "      <td>Cumartesi</td>\n",
       "      <td>Akşam Yemeği</td>\n",
       "      <td>2</td>\n",
       "    </tr>\n",
       "    <tr>\n",
       "      <th>241</th>\n",
       "      <td>22.67</td>\n",
       "      <td>2.00</td>\n",
       "      <td>Erkek</td>\n",
       "      <td>Evet</td>\n",
       "      <td>Cumartesi</td>\n",
       "      <td>Akşam Yemeği</td>\n",
       "      <td>2</td>\n",
       "    </tr>\n",
       "    <tr>\n",
       "      <th>242</th>\n",
       "      <td>17.82</td>\n",
       "      <td>1.75</td>\n",
       "      <td>Erkek</td>\n",
       "      <td>Hayır</td>\n",
       "      <td>Cumartesi</td>\n",
       "      <td>Akşam Yemeği</td>\n",
       "      <td>2</td>\n",
       "    </tr>\n",
       "    <tr>\n",
       "      <th>243</th>\n",
       "      <td>18.78</td>\n",
       "      <td>3.00</td>\n",
       "      <td>Kadın</td>\n",
       "      <td>Hayır</td>\n",
       "      <td>Perşembe</td>\n",
       "      <td>Akşam Yemeği</td>\n",
       "      <td>2</td>\n",
       "    </tr>\n",
       "  </tbody>\n",
       "</table>\n",
       "<p>244 rows × 7 columns</p>\n",
       "</div>"
      ],
      "text/plain": [
       "     fiyat  bahsis cinsiyet sigara        gün         zaman  kişi sayısı\n",
       "0    16.99    1.01    Kadın  Hayır      Pazar  Akşam Yemeği            2\n",
       "1    10.34    1.66    Erkek  Hayır      Pazar  Akşam Yemeği            3\n",
       "2    21.01    3.50    Erkek  Hayır      Pazar  Akşam Yemeği            3\n",
       "3    23.68    3.31    Erkek  Hayır      Pazar  Akşam Yemeği            2\n",
       "4    24.59    3.61    Kadın  Hayır      Pazar  Akşam Yemeği            4\n",
       "..     ...     ...      ...    ...        ...           ...          ...\n",
       "239  29.03    5.92    Erkek  Hayır  Cumartesi  Akşam Yemeği            3\n",
       "240  27.18    2.00    Kadın   Evet  Cumartesi  Akşam Yemeği            2\n",
       "241  22.67    2.00    Erkek   Evet  Cumartesi  Akşam Yemeği            2\n",
       "242  17.82    1.75    Erkek  Hayır  Cumartesi  Akşam Yemeği            2\n",
       "243  18.78    3.00    Kadın  Hayır   Perşembe  Akşam Yemeği            2\n",
       "\n",
       "[244 rows x 7 columns]"
      ]
     },
     "execution_count": 39,
     "metadata": {},
     "output_type": "execute_result"
    }
   ],
   "source": [
    "df"
   ]
  },
  {
   "cell_type": "markdown",
   "id": "acaa20bf-5f97-4cc2-9b41-2551045c09c3",
   "metadata": {},
   "source": [
    "# Veri Setini Göreselleştirme"
   ]
  },
  {
   "cell_type": "code",
   "execution_count": 42,
   "id": "504756e0-a63c-4141-81e6-356d63fdf196",
   "metadata": {},
   "outputs": [],
   "source": [
    "import matplotlib.pyplot as plt"
   ]
  },
  {
   "cell_type": "code",
   "execution_count": 44,
   "id": "048c86f0-ea08-4f7e-8396-eb62ec1a2a12",
   "metadata": {},
   "outputs": [
    {
     "data": {
      "text/plain": [
       "gün\n",
       "Cumartesi    87\n",
       "Pazar        76\n",
       "Perşembe     62\n",
       "Cuma         19\n",
       "Name: count, dtype: int64"
      ]
     },
     "execution_count": 44,
     "metadata": {},
     "output_type": "execute_result"
    }
   ],
   "source": [
    "df.gün.value_counts() # satırdaki türlerden kaçar tane olduğunu gösterir"
   ]
  },
  {
   "cell_type": "code",
   "execution_count": 46,
   "id": "6a93822b-e533-455c-bf68-2fe2f01d5b6c",
   "metadata": {},
   "outputs": [
    {
     "data": {
      "image/png": "[encoded data removed]",
      "text/plain": [
       "<Figure size 640x480 with 1 Axes>"
      ]
     },
     "metadata": {},
     "output_type": "display_data"
    }
   ],
   "source": [
    "df.gün.value_counts().plot(kind = \"pie\" , autopct = \"%.1f%%\")\n",
    "plt.ylabel(\" \");\n",
    "# kind grafiğin türünü belirler\n",
    "# autopct grafiğin üstünde yüzdelikleirnin çıkmasını sağlar\n",
    "# ylabel yan taraftayı yazıyı kaldır sonundaki ; ise gereksiz yazıyı gizler"
   ]
  },
  {
   "cell_type": "code",
   "execution_count": 48,
   "id": "d2ab64ed-ae02-43d7-8a38-91cd8671ca80",
   "metadata": {},
   "outputs": [
    {
     "data": {
      "image/png": "[encoded data removed]",
      "text/plain": [
       "<Figure size 640x480 with 1 Axes>"
      ]
     },
     "metadata": {},
     "output_type": "display_data"
    }
   ],
   "source": [
    "df.cinsiyet.value_counts().plot(kind = \"pie\" , autopct = \"%.1f%%\")\n",
    "plt.ylabel(\" \");"
   ]
  },
  {
   "cell_type": "code",
   "execution_count": 50,
   "id": "ba5cbe5b-b3e9-465e-a3b1-42f5b945f2f1",
   "metadata": {},
   "outputs": [
    {
     "data": {
      "image/png": "[encoded data removed]",
      "text/plain": [
       "<Figure size 640x480 with 1 Axes>"
      ]
     },
     "metadata": {},
     "output_type": "display_data"
    }
   ],
   "source": [
    "sns.barplot(x = \"zaman\", y = \"kişi sayısı\" , hue = \"gün\", data=df);\n",
    "# x ve y verilen grafiklerin elemanları hue da ek olarka eklemke istediğimiz eleman "
   ]
  },
  {
   "cell_type": "markdown",
   "id": "255d6b20-f716-40a5-b602-a24343afdd65",
   "metadata": {},
   "source": [
    "# Verilerin Sayısal Hale Getirilmesi"
   ]
  },
  {
   "cell_type": "markdown",
   "id": "b754c856-862c-4fda-866c-c5627a920024",
   "metadata": {},
   "source": [
    "cinsiyet"
   ]
  },
  {
   "cell_type": "code",
   "execution_count": 59,
   "id": "628ab085-1e9c-4b97-b525-fae866e2cace",
   "metadata": {},
   "outputs": [],
   "source": [
    "df[\"cinsiyet\"] = df.cinsiyet.map({\"Kadın\":1,\"Erkek\":2})"
   ]
  },
  {
   "cell_type": "markdown",
   "id": "438136c6-8049-4f5b-a9b7-c897d211b3dc",
   "metadata": {},
   "source": [
    "sigara"
   ]
  },
  {
   "cell_type": "code",
   "execution_count": 67,
   "id": "d04492e5-0d44-4d38-af85-6cc166fbcecd",
   "metadata": {},
   "outputs": [
    {
     "data": {
      "text/plain": [
       "['Hayır', 'Evet']\n",
       "Categories (2, object): ['Evet', 'Hayır']"
      ]
     },
     "execution_count": 67,
     "metadata": {},
     "output_type": "execute_result"
    }
   ],
   "source": [
    "df.sigara.unique()"
   ]
  },
  {
   "cell_type": "code",
   "execution_count": 82,
   "id": "73b3ffc3-722e-45bf-a26b-a106f8f913a5",
   "metadata": {},
   "outputs": [],
   "source": [
    "df[\"sigara\"] = df.sigara.map({\"Evet\":1,\"Hayır\":2})"
   ]
  },
  {
   "cell_type": "markdown",
   "id": "389dc8d3-a658-4504-bcf8-dfa94a4c435d",
   "metadata": {},
   "source": [
    "günler"
   ]
  },
  {
   "cell_type": "code",
   "execution_count": 87,
   "id": "1b1b4dbc-c934-48e8-a58e-6bc3cb23687d",
   "metadata": {},
   "outputs": [],
   "source": [
    "df[\"gün\"] = df.gün.map({\"Perşembe\":1,\"Cuma\":2,\"Cumartesi\":3,\"Pazar\":4})"
   ]
  },
  {
   "cell_type": "markdown",
   "id": "843bd9a4-3a15-4603-a5e4-2a790aa45c64",
   "metadata": {},
   "source": [
    "Öğün"
   ]
  },
  {
   "cell_type": "code",
   "execution_count": 99,
   "id": "4e389dec-58f1-4e3c-be56-5cdde25ba4f5",
   "metadata": {},
   "outputs": [],
   "source": [
    "df[\"zaman\"] = df.zaman.map({\"Öğle Yemepi\":1,\"Akşam Yemeği\":2})"
   ]
  },
  {
   "cell_type": "code",
   "execution_count": 101,
   "id": "3465e253-f938-4e18-a2ff-700b2260451e",
   "metadata": {},
   "outputs": [
    {
     "data": {
      "text/html": [
       "<div>\n",
       "<style scoped>\n",
       "    .dataframe tbody tr th:only-of-type {\n",
       "        vertical-align: middle;\n",
       "    }\n",
       "\n",
       "    .dataframe tbody tr th {\n",
       "        vertical-align: top;\n",
       "    }\n",
       "\n",
       "    .dataframe thead th {\n",
       "        text-align: right;\n",
       "    }\n",
       "</style>\n",
       "<table border=\"1\" class=\"dataframe\">\n",
       "  <thead>\n",
       "    <tr style=\"text-align: right;\">\n",
       "      <th></th>\n",
       "      <th>fiyat</th>\n",
       "      <th>bahsis</th>\n",
       "      <th>cinsiyet</th>\n",
       "      <th>sigara</th>\n",
       "      <th>gün</th>\n",
       "      <th>zaman</th>\n",
       "      <th>kişi sayısı</th>\n",
       "    </tr>\n",
       "  </thead>\n",
       "  <tbody>\n",
       "    <tr>\n",
       "      <th>0</th>\n",
       "      <td>16.99</td>\n",
       "      <td>1.01</td>\n",
       "      <td>1</td>\n",
       "      <td>2</td>\n",
       "      <td>4</td>\n",
       "      <td>2</td>\n",
       "      <td>2</td>\n",
       "    </tr>\n",
       "    <tr>\n",
       "      <th>1</th>\n",
       "      <td>10.34</td>\n",
       "      <td>1.66</td>\n",
       "      <td>2</td>\n",
       "      <td>2</td>\n",
       "      <td>4</td>\n",
       "      <td>2</td>\n",
       "      <td>3</td>\n",
       "    </tr>\n",
       "    <tr>\n",
       "      <th>2</th>\n",
       "      <td>21.01</td>\n",
       "      <td>3.50</td>\n",
       "      <td>2</td>\n",
       "      <td>2</td>\n",
       "      <td>4</td>\n",
       "      <td>2</td>\n",
       "      <td>3</td>\n",
       "    </tr>\n",
       "    <tr>\n",
       "      <th>3</th>\n",
       "      <td>23.68</td>\n",
       "      <td>3.31</td>\n",
       "      <td>2</td>\n",
       "      <td>2</td>\n",
       "      <td>4</td>\n",
       "      <td>2</td>\n",
       "      <td>2</td>\n",
       "    </tr>\n",
       "    <tr>\n",
       "      <th>4</th>\n",
       "      <td>24.59</td>\n",
       "      <td>3.61</td>\n",
       "      <td>1</td>\n",
       "      <td>2</td>\n",
       "      <td>4</td>\n",
       "      <td>2</td>\n",
       "      <td>4</td>\n",
       "    </tr>\n",
       "    <tr>\n",
       "      <th>...</th>\n",
       "      <td>...</td>\n",
       "      <td>...</td>\n",
       "      <td>...</td>\n",
       "      <td>...</td>\n",
       "      <td>...</td>\n",
       "      <td>...</td>\n",
       "      <td>...</td>\n",
       "    </tr>\n",
       "    <tr>\n",
       "      <th>239</th>\n",
       "      <td>29.03</td>\n",
       "      <td>5.92</td>\n",
       "      <td>2</td>\n",
       "      <td>2</td>\n",
       "      <td>3</td>\n",
       "      <td>2</td>\n",
       "      <td>3</td>\n",
       "    </tr>\n",
       "    <tr>\n",
       "      <th>240</th>\n",
       "      <td>27.18</td>\n",
       "      <td>2.00</td>\n",
       "      <td>1</td>\n",
       "      <td>1</td>\n",
       "      <td>3</td>\n",
       "      <td>2</td>\n",
       "      <td>2</td>\n",
       "    </tr>\n",
       "    <tr>\n",
       "      <th>241</th>\n",
       "      <td>22.67</td>\n",
       "      <td>2.00</td>\n",
       "      <td>2</td>\n",
       "      <td>1</td>\n",
       "      <td>3</td>\n",
       "      <td>2</td>\n",
       "      <td>2</td>\n",
       "    </tr>\n",
       "    <tr>\n",
       "      <th>242</th>\n",
       "      <td>17.82</td>\n",
       "      <td>1.75</td>\n",
       "      <td>2</td>\n",
       "      <td>2</td>\n",
       "      <td>3</td>\n",
       "      <td>2</td>\n",
       "      <td>2</td>\n",
       "    </tr>\n",
       "    <tr>\n",
       "      <th>243</th>\n",
       "      <td>18.78</td>\n",
       "      <td>3.00</td>\n",
       "      <td>1</td>\n",
       "      <td>2</td>\n",
       "      <td>1</td>\n",
       "      <td>2</td>\n",
       "      <td>2</td>\n",
       "    </tr>\n",
       "  </tbody>\n",
       "</table>\n",
       "<p>244 rows × 7 columns</p>\n",
       "</div>"
      ],
      "text/plain": [
       "     fiyat  bahsis cinsiyet sigara gün zaman  kişi sayısı\n",
       "0    16.99    1.01        1      2   4     2            2\n",
       "1    10.34    1.66        2      2   4     2            3\n",
       "2    21.01    3.50        2      2   4     2            3\n",
       "3    23.68    3.31        2      2   4     2            2\n",
       "4    24.59    3.61        1      2   4     2            4\n",
       "..     ...     ...      ...    ...  ..   ...          ...\n",
       "239  29.03    5.92        2      2   3     2            3\n",
       "240  27.18    2.00        1      1   3     2            2\n",
       "241  22.67    2.00        2      1   3     2            2\n",
       "242  17.82    1.75        2      2   3     2            2\n",
       "243  18.78    3.00        1      2   1     2            2\n",
       "\n",
       "[244 rows x 7 columns]"
      ]
     },
     "execution_count": 101,
     "metadata": {},
     "output_type": "execute_result"
    }
   ],
   "source": [
    "df"
   ]
  },
  {
   "cell_type": "code",
   "execution_count": null,
   "id": "a513fb1d-c6e6-469c-95f4-8fadaaf4952e",
   "metadata": {},
   "outputs": [],
   "source": []
  },
  {
   "cell_type": "code",
   "execution_count": null,
   "id": "60d7e02f-04e6-48c5-b117-cefb65ab82ed",
   "metadata": {},
   "outputs": [],
   "source": []
  },
  {
   "cell_type": "code",
   "execution_count": null,
   "id": "51037526-1beb-45ae-b43b-d430365c25b6",
   "metadata": {},
   "outputs": [],
   "source": []
  },
  {
   "cell_type": "code",
   "execution_count": null,
   "id": "d9f4e8cd-dde5-4a35-86f1-4dddb668d716",
   "metadata": {},
   "outputs": [],
   "source": []
  },
  {
   "cell_type": "code",
   "execution_count": null,
   "id": "483258d1-02a5-49c3-9cdf-9bbb8614f40d",
   "metadata": {},
   "outputs": [],
   "source": []
  },
  {
   "cell_type": "code",
   "execution_count": null,
   "id": "60cd1823-4d1a-40c7-ba07-95909a5f5314",
   "metadata": {},
   "outputs": [],
   "source": []
  }
 ],
 "metadata": {
  "kernelspec": {
   "display_name": "Python [conda env:base] *",
   "language": "python",
   "name": "conda-base-py"
  },
  "language_info": {
   "codemirror_mode": {
    "name": "ipython",
    "version": 3
   },
   "file_extension": ".py",
   "mimetype": "text/x-python",
   "name": "python",
   "nbconvert_exporter": "python",
   "pygments_lexer": "ipython3",
   "version": "3.12.7"
  }
 },
 "nbformat": 4,
 "nbformat_minor": 5
}
