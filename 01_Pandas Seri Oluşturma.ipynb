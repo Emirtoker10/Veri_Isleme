{
 "cells": [
  {
   "cell_type": "code",
   "execution_count": 1,
   "id": "4503a30e-1a3d-4c20-b7c1-c0698d6b0073",
   "metadata": {},
   "outputs": [],
   "source": [
    "import pandas as pd"
   ]
  },
  {
   "cell_type": "code",
   "execution_count": 3,
   "id": "b3ea5c6f-e89a-4ae7-94a1-34970be19066",
   "metadata": {},
   "outputs": [
    {
     "data": {
      "text/plain": [
       "0    0\n",
       "1    1\n",
       "2    2\n",
       "3    3\n",
       "4    4\n",
       "5    5\n",
       "dtype: int64"
      ]
     },
     "execution_count": 3,
     "metadata": {},
     "output_type": "execute_result"
    }
   ],
   "source": [
    "pd.Series([0,1,2,3,4,5])"
   ]
  },
  {
   "cell_type": "code",
   "execution_count": 5,
   "id": "a88f60c0-20a9-450a-b230-a7ffa00f3d08",
   "metadata": {},
   "outputs": [],
   "source": [
    "seri = pd.Series([0,1,2,3,4,5])"
   ]
  },
  {
   "cell_type": "code",
   "execution_count": 7,
   "id": "91b52222-4dcf-421d-a477-43b8592b4dcb",
   "metadata": {},
   "outputs": [
    {
     "data": {
      "text/plain": [
       "[RangeIndex(start=0, stop=6, step=1)]"
      ]
     },
     "execution_count": 7,
     "metadata": {},
     "output_type": "execute_result"
    }
   ],
   "source": [
    "seri.axes"
   ]
  },
  {
   "cell_type": "code",
   "execution_count": 11,
   "id": "a6aa0382-c252-4468-a2ac-38ebcd79aa49",
   "metadata": {},
   "outputs": [
    {
     "data": {
      "text/plain": [
       "1"
      ]
     },
     "execution_count": 11,
     "metadata": {},
     "output_type": "execute_result"
    }
   ],
   "source": [
    "seri.ndim"
   ]
  },
  {
   "cell_type": "code",
   "execution_count": 13,
   "id": "46e1a1f4-e0eb-4026-b68c-22c78be2fa2e",
   "metadata": {},
   "outputs": [
    {
     "data": {
      "text/plain": [
       "array([0, 1, 2, 3, 4, 5], dtype=int64)"
      ]
     },
     "execution_count": 13,
     "metadata": {},
     "output_type": "execute_result"
    }
   ],
   "source": [
    "seri.values"
   ]
  },
  {
   "cell_type": "code",
   "execution_count": 19,
   "id": "01f6ec53-2ae1-44a9-94df-349538d2b9e7",
   "metadata": {},
   "outputs": [
    {
     "data": {
      "text/plain": [
       "0    0\n",
       "1    1\n",
       "2    2\n",
       "3    3\n",
       "4    4\n",
       "dtype: int64"
      ]
     },
     "execution_count": 19,
     "metadata": {},
     "output_type": "execute_result"
    }
   ],
   "source": [
    "seri.head()"
   ]
  },
  {
   "cell_type": "markdown",
   "id": "1a28f618-b66a-4d7a-a2ee-3f99744be87a",
   "metadata": {},
   "source": [
    "# İndex İsimlendirmesi"
   ]
  },
  {
   "cell_type": "code",
   "execution_count": 23,
   "id": "8d49cf65-fa13-4209-96d5-f63b4f4a6e89",
   "metadata": {},
   "outputs": [
    {
     "data": {
      "text/plain": [
       "0     99\n",
       "1     44\n",
       "2     65\n",
       "3     26\n",
       "4    793\n",
       "5     54\n",
       "6     32\n",
       "dtype: int64"
      ]
     },
     "execution_count": 23,
     "metadata": {},
     "output_type": "execute_result"
    }
   ],
   "source": [
    "pd.Series([99,44,65,26,793,54,32])"
   ]
  },
  {
   "cell_type": "code",
   "execution_count": 35,
   "id": "39346d67-00e3-4619-bdd5-baf6e4c48bd4",
   "metadata": {},
   "outputs": [
    {
     "data": {
      "text/plain": [
       "1      99\n",
       "3      44\n",
       "5      65\n",
       "7      26\n",
       "9     793\n",
       "11     54\n",
       "13     32\n",
       "dtype: int64"
      ]
     },
     "execution_count": 35,
     "metadata": {},
     "output_type": "execute_result"
    }
   ],
   "source": [
    "pd.Series([99,44,65,26,793,54,32],index = [1,3,5,7,9,11,13]) "
   ]
  },
  {
   "cell_type": "code",
   "execution_count": 39,
   "id": "bb8c0d5f-cba6-4bc3-ac68-2321a90a2343",
   "metadata": {},
   "outputs": [
    {
     "data": {
      "text/plain": [
       "a     99\n",
       "b     44\n",
       "c     65\n",
       "d     26\n",
       "e    793\n",
       "f     54\n",
       "g     32\n",
       "dtype: int64"
      ]
     },
     "execution_count": 39,
     "metadata": {},
     "output_type": "execute_result"
    }
   ],
   "source": [
    "seri = pd.Series([99,44,65,26,793,54,32],index = [\"a\",\"b\",\"c\",\"d\",\"e\",\"f\",\"g\"])\n",
    "pd.Series([99,44,65,26,793,54,32],index = [\"a\",\"b\",\"c\",\"d\",\"e\",\"f\",\"g\"])"
   ]
  },
  {
   "cell_type": "markdown",
   "id": "e815380e-a156-4f9b-b3b6-eabe7fd5a696",
   "metadata": {},
   "source": [
    "# Sözlük Üzerinden Liste Oluşturmak"
   ]
  },
  {
   "cell_type": "code",
   "execution_count": 50,
   "id": "86c10ca4-8a61-4cf5-8299-170dd37aa6d4",
   "metadata": {},
   "outputs": [
    {
     "data": {
      "text/plain": [
       "reg     10\n",
       "log     11\n",
       "cart    12\n",
       "dtype: int64"
      ]
     },
     "execution_count": 50,
     "metadata": {},
     "output_type": "execute_result"
    }
   ],
   "source": [
    "sozluk = {\"reg\":10,\"log\":11,\"cart\":12}\n",
    "seri = pd.Series(sozluk)\n",
    "seri"
   ]
  },
  {
   "cell_type": "code",
   "execution_count": 52,
   "id": "5ddc6bab-4284-44c6-a31a-44c2bfc67eaa",
   "metadata": {},
   "outputs": [
    {
     "data": {
      "text/plain": [
       "reg    10\n",
       "log    11\n",
       "dtype: int64"
      ]
     },
     "execution_count": 52,
     "metadata": {},
     "output_type": "execute_result"
    }
   ],
   "source": [
    "seri[\"reg\":\"log\"]"
   ]
  },
  {
   "cell_type": "code",
   "execution_count": 62,
   "id": "3f9203ff-c76b-40ad-bfe8-c8dde2cfa326",
   "metadata": {},
   "outputs": [
    {
     "data": {
      "text/plain": [
       "reg     10\n",
       "log     11\n",
       "cart    12\n",
       "reg     10\n",
       "log     11\n",
       "cart    12\n",
       "dtype: int64"
      ]
     },
     "execution_count": 62,
     "metadata": {},
     "output_type": "execute_result"
    }
   ],
   "source": [
    "seri2 = pd.concat([seri,seri]) # birleştirme işlemi\n",
    "seri2"
   ]
  },
  {
   "cell_type": "code",
   "execution_count": null,
   "id": "642e891f-7601-4538-9a87-da96a23089fb",
   "metadata": {},
   "outputs": [],
   "source": []
  },
  {
   "cell_type": "code",
   "execution_count": null,
   "id": "402b19be-fd68-4c16-af03-44f5308c3632",
   "metadata": {},
   "outputs": [],
   "source": []
  }
 ],
 "metadata": {
  "kernelspec": {
   "display_name": "Python [conda env:base] *",
   "language": "python",
   "name": "conda-base-py"
  },
  "language_info": {
   "codemirror_mode": {
    "name": "ipython",
    "version": 3
   },
   "file_extension": ".py",
   "mimetype": "text/x-python",
   "name": "python",
   "nbconvert_exporter": "python",
   "pygments_lexer": "ipython3",
   "version": "3.12.7"
  }
 },
 "nbformat": 4,
 "nbformat_minor": 5
}
